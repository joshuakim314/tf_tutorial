{
  "nbformat": 4,
  "nbformat_minor": 0,
  "metadata": {
    "colab": {
      "name": "basic_text_classification.ipynb",
      "version": "0.3.2",
      "provenance": [],
      "include_colab_link": true
    },
    "kernelspec": {
      "name": "python3",
      "display_name": "Python 3"
    },
    "accelerator": "GPU"
  },
  "cells": [
    {
      "cell_type": "markdown",
      "metadata": {
        "id": "view-in-github",
        "colab_type": "text"
      },
      "source": [
        "<a href=\"https://colab.research.google.com/github/joshuakim314/tf_tutorial/blob/master/basic_text_classification.ipynb\" target=\"_parent\"><img src=\"https://colab.research.google.com/assets/colab-badge.svg\" alt=\"Open In Colab\"/></a>"
      ]
    },
    {
      "metadata": {
        "id": "6j2iNezffxFH",
        "colab_type": "code",
        "colab": {
          "base_uri": "https://localhost:8080/",
          "height": 34
        },
        "outputId": "bb7b2712-6902-48b1-e800-444dce01d9be"
      },
      "cell_type": "code",
      "source": [
        "from __future__ import absolute_import, division, print_function\n",
        "\n",
        "import tensorflow as tf\n",
        "from tensorflow import keras\n",
        "\n",
        "import numpy as np\n",
        "\n",
        "print(tf.__version__)"
      ],
      "execution_count": 1,
      "outputs": [
        {
          "output_type": "stream",
          "text": [
            "1.13.0-rc2\n"
          ],
          "name": "stdout"
        }
      ]
    },
    {
      "metadata": {
        "id": "GcIyCdjCgO5b",
        "colab_type": "code",
        "colab": {}
      },
      "cell_type": "code",
      "source": [
        "imdb = keras.datasets.imdb\n",
        "\n",
        "(train_data, train_labels), (test_data, test_labels) = imdb.load_data(num_words=10000)"
      ],
      "execution_count": 0,
      "outputs": []
    },
    {
      "metadata": {
        "id": "u3IRvRmjgRCB",
        "colab_type": "code",
        "colab": {
          "base_uri": "https://localhost:8080/",
          "height": 34
        },
        "outputId": "9df29918-b1d2-4631-8834-a451a995f9ad"
      },
      "cell_type": "code",
      "source": [
        "print(\"Training entries: {}, labels: {}\".format(len(train_data), len(train_labels)))"
      ],
      "execution_count": 3,
      "outputs": [
        {
          "output_type": "stream",
          "text": [
            "Training entries: 25000, labels: 25000\n"
          ],
          "name": "stdout"
        }
      ]
    },
    {
      "metadata": {
        "id": "yv1Y_uNhgbOc",
        "colab_type": "code",
        "colab": {
          "base_uri": "https://localhost:8080/",
          "height": 54
        },
        "outputId": "0327ffea-f93c-4ac6-91a9-a8363ceeaa34"
      },
      "cell_type": "code",
      "source": [
        "print(train_data[0])"
      ],
      "execution_count": 4,
      "outputs": [
        {
          "output_type": "stream",
          "text": [
            "[1, 14, 22, 16, 43, 530, 973, 1622, 1385, 65, 458, 4468, 66, 3941, 4, 173, 36, 256, 5, 25, 100, 43, 838, 112, 50, 670, 2, 9, 35, 480, 284, 5, 150, 4, 172, 112, 167, 2, 336, 385, 39, 4, 172, 4536, 1111, 17, 546, 38, 13, 447, 4, 192, 50, 16, 6, 147, 2025, 19, 14, 22, 4, 1920, 4613, 469, 4, 22, 71, 87, 12, 16, 43, 530, 38, 76, 15, 13, 1247, 4, 22, 17, 515, 17, 12, 16, 626, 18, 2, 5, 62, 386, 12, 8, 316, 8, 106, 5, 4, 2223, 5244, 16, 480, 66, 3785, 33, 4, 130, 12, 16, 38, 619, 5, 25, 124, 51, 36, 135, 48, 25, 1415, 33, 6, 22, 12, 215, 28, 77, 52, 5, 14, 407, 16, 82, 2, 8, 4, 107, 117, 5952, 15, 256, 4, 2, 7, 3766, 5, 723, 36, 71, 43, 530, 476, 26, 400, 317, 46, 7, 4, 2, 1029, 13, 104, 88, 4, 381, 15, 297, 98, 32, 2071, 56, 26, 141, 6, 194, 7486, 18, 4, 226, 22, 21, 134, 476, 26, 480, 5, 144, 30, 5535, 18, 51, 36, 28, 224, 92, 25, 104, 4, 226, 65, 16, 38, 1334, 88, 12, 16, 283, 5, 16, 4472, 113, 103, 32, 15, 16, 5345, 19, 178, 32]\n"
          ],
          "name": "stdout"
        }
      ]
    },
    {
      "metadata": {
        "id": "dRGRm91-ggN1",
        "colab_type": "code",
        "colab": {
          "base_uri": "https://localhost:8080/",
          "height": 34
        },
        "outputId": "ac65845a-f616-4fe0-9264-683a1d9868e5"
      },
      "cell_type": "code",
      "source": [
        "len(train_data[0]), len(train_data[1])"
      ],
      "execution_count": 5,
      "outputs": [
        {
          "output_type": "execute_result",
          "data": {
            "text/plain": [
              "(218, 189)"
            ]
          },
          "metadata": {
            "tags": []
          },
          "execution_count": 5
        }
      ]
    },
    {
      "metadata": {
        "id": "8Xt9ppgzgrB5",
        "colab_type": "code",
        "colab": {}
      },
      "cell_type": "code",
      "source": [
        "# A dictionary mapping words to an integer index\n",
        "word_index = imdb.get_word_index()\n",
        "\n",
        "# The first indices are reserved\n",
        "word_index = {k:(v+3) for k,v in word_index.items()} \n",
        "word_index[\"<PAD>\"] = 0\n",
        "word_index[\"<START>\"] = 1\n",
        "word_index[\"<UNK>\"] = 2  # unknown\n",
        "word_index[\"<UNUSED>\"] = 3\n",
        "\n",
        "reverse_word_index = dict([(value, key) for (key, value) in word_index.items()])\n",
        "\n",
        "def decode_review(text):\n",
        "    return ' '.join([reverse_word_index.get(i, '?') for i in text])"
      ],
      "execution_count": 0,
      "outputs": []
    },
    {
      "metadata": {
        "id": "DjZnXZG4guy6",
        "colab_type": "code",
        "colab": {
          "base_uri": "https://localhost:8080/",
          "height": 54
        },
        "outputId": "ff720bdf-e624-4b36-a468-9038a0a18024"
      },
      "cell_type": "code",
      "source": [
        "decode_review(train_data[0])"
      ],
      "execution_count": 7,
      "outputs": [
        {
          "output_type": "execute_result",
          "data": {
            "text/plain": [
              "\"<START> this film was just brilliant casting location scenery story direction everyone's really suited the part they played and you could just imagine being there robert <UNK> is an amazing actor and now the same being director <UNK> father came from the same scottish island as myself so i loved the fact there was a real connection with this film the witty remarks throughout the film were great it was just brilliant so much that i bought the film as soon as it was released for <UNK> and would recommend it to everyone to watch and the fly fishing was amazing really cried at the end it was so sad and you know what they say if you cry at a film it must have been good and this definitely was also <UNK> to the two little boy's that played the <UNK> of norman and paul they were just brilliant children are often left out of the <UNK> list i think because the stars that play them all grown up are such a big profile for the whole film but these children are amazing and should be praised for what they have done don't you think the whole story was so lovely because it was true and was someone's life after all that was shared with us all\""
            ]
          },
          "metadata": {
            "tags": []
          },
          "execution_count": 7
        }
      ]
    },
    {
      "metadata": {
        "id": "0dDWsKMPhA0O",
        "colab_type": "code",
        "colab": {}
      },
      "cell_type": "code",
      "source": [
        "train_data = keras.preprocessing.sequence.pad_sequences(train_data,\n",
        "                                                        value=word_index[\"<PAD>\"],\n",
        "                                                        padding='post',\n",
        "                                                        maxlen=256)\n",
        "\n",
        "test_data = keras.preprocessing.sequence.pad_sequences(test_data,\n",
        "                                                       value=word_index[\"<PAD>\"],\n",
        "                                                       padding='post',\n",
        "                                                       maxlen=256)"
      ],
      "execution_count": 0,
      "outputs": []
    },
    {
      "metadata": {
        "id": "Ww_XCq-bhOD0",
        "colab_type": "code",
        "colab": {
          "base_uri": "https://localhost:8080/",
          "height": 34
        },
        "outputId": "c3817819-1382-41e3-ac4d-9cc300a07362"
      },
      "cell_type": "code",
      "source": [
        "len(train_data[0]), len(train_data[1])"
      ],
      "execution_count": 9,
      "outputs": [
        {
          "output_type": "execute_result",
          "data": {
            "text/plain": [
              "(256, 256)"
            ]
          },
          "metadata": {
            "tags": []
          },
          "execution_count": 9
        }
      ]
    },
    {
      "metadata": {
        "id": "vaCV2vp5iayS",
        "colab_type": "code",
        "colab": {
          "base_uri": "https://localhost:8080/",
          "height": 340
        },
        "outputId": "3c963b6c-e7d5-4022-e152-572794d8f603"
      },
      "cell_type": "code",
      "source": [
        "print(train_data[0])"
      ],
      "execution_count": 10,
      "outputs": [
        {
          "output_type": "stream",
          "text": [
            "[   1   14   22   16   43  530  973 1622 1385   65  458 4468   66 3941\n",
            "    4  173   36  256    5   25  100   43  838  112   50  670    2    9\n",
            "   35  480  284    5  150    4  172  112  167    2  336  385   39    4\n",
            "  172 4536 1111   17  546   38   13  447    4  192   50   16    6  147\n",
            " 2025   19   14   22    4 1920 4613  469    4   22   71   87   12   16\n",
            "   43  530   38   76   15   13 1247    4   22   17  515   17   12   16\n",
            "  626   18    2    5   62  386   12    8  316    8  106    5    4 2223\n",
            " 5244   16  480   66 3785   33    4  130   12   16   38  619    5   25\n",
            "  124   51   36  135   48   25 1415   33    6   22   12  215   28   77\n",
            "   52    5   14  407   16   82    2    8    4  107  117 5952   15  256\n",
            "    4    2    7 3766    5  723   36   71   43  530  476   26  400  317\n",
            "   46    7    4    2 1029   13  104   88    4  381   15  297   98   32\n",
            " 2071   56   26  141    6  194 7486   18    4  226   22   21  134  476\n",
            "   26  480    5  144   30 5535   18   51   36   28  224   92   25  104\n",
            "    4  226   65   16   38 1334   88   12   16  283    5   16 4472  113\n",
            "  103   32   15   16 5345   19  178   32    0    0    0    0    0    0\n",
            "    0    0    0    0    0    0    0    0    0    0    0    0    0    0\n",
            "    0    0    0    0    0    0    0    0    0    0    0    0    0    0\n",
            "    0    0    0    0]\n"
          ],
          "name": "stdout"
        }
      ]
    },
    {
      "metadata": {
        "id": "N-H7YHUEi0P3",
        "colab_type": "code",
        "colab": {
          "base_uri": "https://localhost:8080/",
          "height": 343
        },
        "outputId": "3fbcb638-d1a7-44d5-d1bd-57c51a7fd808"
      },
      "cell_type": "code",
      "source": [
        "# input shape is the vocabulary count used for the movie reviews (10,000 words)\n",
        "vocab_size = 10000\n",
        "\n",
        "model = keras.Sequential()\n",
        "model.add(keras.layers.Embedding(vocab_size, 16))\n",
        "model.add(keras.layers.GlobalAveragePooling1D())\n",
        "model.add(keras.layers.Dense(16, activation=tf.nn.relu))\n",
        "model.add(keras.layers.Dense(1, activation=tf.nn.sigmoid))\n",
        "\n",
        "model.summary()"
      ],
      "execution_count": 11,
      "outputs": [
        {
          "output_type": "stream",
          "text": [
            "WARNING:tensorflow:From /usr/local/lib/python3.6/dist-packages/tensorflow/python/ops/resource_variable_ops.py:435: colocate_with (from tensorflow.python.framework.ops) is deprecated and will be removed in a future version.\n",
            "Instructions for updating:\n",
            "Colocations handled automatically by placer.\n",
            "_________________________________________________________________\n",
            "Layer (type)                 Output Shape              Param #   \n",
            "=================================================================\n",
            "embedding (Embedding)        (None, None, 16)          160000    \n",
            "_________________________________________________________________\n",
            "global_average_pooling1d (Gl (None, 16)                0         \n",
            "_________________________________________________________________\n",
            "dense (Dense)                (None, 16)                272       \n",
            "_________________________________________________________________\n",
            "dense_1 (Dense)              (None, 1)                 17        \n",
            "=================================================================\n",
            "Total params: 160,289\n",
            "Trainable params: 160,289\n",
            "Non-trainable params: 0\n",
            "_________________________________________________________________\n"
          ],
          "name": "stdout"
        }
      ]
    },
    {
      "metadata": {
        "id": "evFSqWnTjXQq",
        "colab_type": "code",
        "colab": {}
      },
      "cell_type": "code",
      "source": [
        "model.compile(optimizer='adam',\n",
        "              loss='binary_crossentropy',\n",
        "              metrics=['accuracy'])"
      ],
      "execution_count": 0,
      "outputs": []
    },
    {
      "metadata": {
        "id": "F4TB6MAbjf5Y",
        "colab_type": "code",
        "colab": {}
      },
      "cell_type": "code",
      "source": [
        "x_val = train_data[:10000]\n",
        "partial_x_train = train_data[10000:]\n",
        "\n",
        "y_val = train_labels[:10000]\n",
        "partial_y_train = train_labels[10000:]"
      ],
      "execution_count": 0,
      "outputs": []
    },
    {
      "metadata": {
        "id": "zxwPhFdfjiwW",
        "colab_type": "code",
        "colab": {
          "base_uri": "https://localhost:8080/",
          "height": 1465
        },
        "outputId": "11474582-6bc2-4393-8d39-55cd9b85fb9b"
      },
      "cell_type": "code",
      "source": [
        "history = model.fit(partial_x_train,\n",
        "                    partial_y_train,\n",
        "                    epochs=40,\n",
        "                    batch_size=512,\n",
        "                    validation_data=(x_val, y_val),\n",
        "                    verbose=1)"
      ],
      "execution_count": 14,
      "outputs": [
        {
          "output_type": "stream",
          "text": [
            "Train on 15000 samples, validate on 10000 samples\n",
            "WARNING:tensorflow:From /usr/local/lib/python3.6/dist-packages/tensorflow/python/ops/math_ops.py:3066: to_int32 (from tensorflow.python.ops.math_ops) is deprecated and will be removed in a future version.\n",
            "Instructions for updating:\n",
            "Use tf.cast instead.\n",
            "Epoch 1/40\n",
            "15000/15000 [==============================] - 1s 81us/sample - loss: 0.6917 - acc: 0.5760 - val_loss: 0.6893 - val_acc: 0.5819\n",
            "Epoch 2/40\n",
            "15000/15000 [==============================] - 0s 20us/sample - loss: 0.6850 - acc: 0.6890 - val_loss: 0.6807 - val_acc: 0.7125\n",
            "Epoch 3/40\n",
            "15000/15000 [==============================] - 0s 19us/sample - loss: 0.6719 - acc: 0.7411 - val_loss: 0.6648 - val_acc: 0.7550\n",
            "Epoch 4/40\n",
            "15000/15000 [==============================] - 0s 19us/sample - loss: 0.6501 - acc: 0.7579 - val_loss: 0.6401 - val_acc: 0.7647\n",
            "Epoch 5/40\n",
            "15000/15000 [==============================] - 0s 19us/sample - loss: 0.6184 - acc: 0.7890 - val_loss: 0.6071 - val_acc: 0.7871\n",
            "Epoch 6/40\n",
            "15000/15000 [==============================] - 0s 21us/sample - loss: 0.5778 - acc: 0.8118 - val_loss: 0.5673 - val_acc: 0.8000\n",
            "Epoch 7/40\n",
            "15000/15000 [==============================] - 0s 21us/sample - loss: 0.5313 - acc: 0.8264 - val_loss: 0.5235 - val_acc: 0.8202\n",
            "Epoch 8/40\n",
            "15000/15000 [==============================] - 0s 21us/sample - loss: 0.4844 - acc: 0.8448 - val_loss: 0.4826 - val_acc: 0.8322\n",
            "Epoch 9/40\n",
            "15000/15000 [==============================] - 0s 21us/sample - loss: 0.4403 - acc: 0.8589 - val_loss: 0.4455 - val_acc: 0.8423\n",
            "Epoch 10/40\n",
            "15000/15000 [==============================] - 0s 21us/sample - loss: 0.4011 - acc: 0.8723 - val_loss: 0.4146 - val_acc: 0.8499\n",
            "Epoch 11/40\n",
            "15000/15000 [==============================] - 0s 21us/sample - loss: 0.3678 - acc: 0.8797 - val_loss: 0.3890 - val_acc: 0.8584\n",
            "Epoch 12/40\n",
            "15000/15000 [==============================] - 0s 22us/sample - loss: 0.3398 - acc: 0.8881 - val_loss: 0.3693 - val_acc: 0.8606\n",
            "Epoch 13/40\n",
            "15000/15000 [==============================] - 0s 21us/sample - loss: 0.3168 - acc: 0.8940 - val_loss: 0.3519 - val_acc: 0.8674\n",
            "Epoch 14/40\n",
            "15000/15000 [==============================] - 0s 21us/sample - loss: 0.2962 - acc: 0.8993 - val_loss: 0.3392 - val_acc: 0.8708\n",
            "Epoch 15/40\n",
            "15000/15000 [==============================] - 0s 21us/sample - loss: 0.2789 - acc: 0.9045 - val_loss: 0.3285 - val_acc: 0.8738\n",
            "Epoch 16/40\n",
            "15000/15000 [==============================] - 0s 20us/sample - loss: 0.2635 - acc: 0.9093 - val_loss: 0.3197 - val_acc: 0.8753\n",
            "Epoch 17/40\n",
            "15000/15000 [==============================] - 0s 21us/sample - loss: 0.2493 - acc: 0.9148 - val_loss: 0.3125 - val_acc: 0.8766\n",
            "Epoch 18/40\n",
            "15000/15000 [==============================] - 0s 21us/sample - loss: 0.2367 - acc: 0.9199 - val_loss: 0.3062 - val_acc: 0.8797\n",
            "Epoch 19/40\n",
            "15000/15000 [==============================] - 0s 20us/sample - loss: 0.2254 - acc: 0.9216 - val_loss: 0.3009 - val_acc: 0.8809\n",
            "Epoch 20/40\n",
            "15000/15000 [==============================] - 0s 21us/sample - loss: 0.2152 - acc: 0.9258 - val_loss: 0.2973 - val_acc: 0.8808\n",
            "Epoch 21/40\n",
            "15000/15000 [==============================] - 0s 22us/sample - loss: 0.2048 - acc: 0.9306 - val_loss: 0.2942 - val_acc: 0.8820\n",
            "Epoch 22/40\n",
            "15000/15000 [==============================] - 0s 21us/sample - loss: 0.1961 - acc: 0.9333 - val_loss: 0.2913 - val_acc: 0.8829\n",
            "Epoch 23/40\n",
            "15000/15000 [==============================] - 0s 21us/sample - loss: 0.1874 - acc: 0.9376 - val_loss: 0.2901 - val_acc: 0.8830\n",
            "Epoch 24/40\n",
            "15000/15000 [==============================] - 0s 22us/sample - loss: 0.1798 - acc: 0.9410 - val_loss: 0.2883 - val_acc: 0.8839\n",
            "Epoch 25/40\n",
            "15000/15000 [==============================] - 0s 21us/sample - loss: 0.1720 - acc: 0.9447 - val_loss: 0.2867 - val_acc: 0.8849\n",
            "Epoch 26/40\n",
            "15000/15000 [==============================] - 0s 21us/sample - loss: 0.1651 - acc: 0.9473 - val_loss: 0.2871 - val_acc: 0.8829\n",
            "Epoch 27/40\n",
            "15000/15000 [==============================] - 0s 21us/sample - loss: 0.1585 - acc: 0.9499 - val_loss: 0.2864 - val_acc: 0.8840\n",
            "Epoch 28/40\n",
            "15000/15000 [==============================] - 0s 21us/sample - loss: 0.1522 - acc: 0.9532 - val_loss: 0.2866 - val_acc: 0.8855\n",
            "Epoch 29/40\n",
            "15000/15000 [==============================] - 0s 21us/sample - loss: 0.1467 - acc: 0.9559 - val_loss: 0.2881 - val_acc: 0.8831\n",
            "Epoch 30/40\n",
            "15000/15000 [==============================] - 0s 20us/sample - loss: 0.1410 - acc: 0.9567 - val_loss: 0.2873 - val_acc: 0.8858\n",
            "Epoch 31/40\n",
            "15000/15000 [==============================] - 0s 21us/sample - loss: 0.1351 - acc: 0.9604 - val_loss: 0.2882 - val_acc: 0.8863\n",
            "Epoch 32/40\n",
            "15000/15000 [==============================] - 0s 21us/sample - loss: 0.1298 - acc: 0.9621 - val_loss: 0.2895 - val_acc: 0.8864\n",
            "Epoch 33/40\n",
            "15000/15000 [==============================] - 0s 21us/sample - loss: 0.1248 - acc: 0.9640 - val_loss: 0.2916 - val_acc: 0.8861\n",
            "Epoch 34/40\n",
            "15000/15000 [==============================] - 0s 21us/sample - loss: 0.1202 - acc: 0.9659 - val_loss: 0.2936 - val_acc: 0.8853\n",
            "Epoch 35/40\n",
            "15000/15000 [==============================] - 0s 21us/sample - loss: 0.1160 - acc: 0.9667 - val_loss: 0.2959 - val_acc: 0.8854\n",
            "Epoch 36/40\n",
            "15000/15000 [==============================] - 0s 21us/sample - loss: 0.1114 - acc: 0.9692 - val_loss: 0.2976 - val_acc: 0.8845\n",
            "Epoch 37/40\n",
            "15000/15000 [==============================] - 0s 21us/sample - loss: 0.1070 - acc: 0.9698 - val_loss: 0.3001 - val_acc: 0.8847\n",
            "Epoch 38/40\n",
            "15000/15000 [==============================] - 0s 21us/sample - loss: 0.1030 - acc: 0.9717 - val_loss: 0.3035 - val_acc: 0.8828\n",
            "Epoch 39/40\n",
            "15000/15000 [==============================] - 0s 22us/sample - loss: 0.0997 - acc: 0.9728 - val_loss: 0.3068 - val_acc: 0.8819\n",
            "Epoch 40/40\n",
            "15000/15000 [==============================] - 0s 22us/sample - loss: 0.0956 - acc: 0.9748 - val_loss: 0.3095 - val_acc: 0.8824\n"
          ],
          "name": "stdout"
        }
      ]
    },
    {
      "metadata": {
        "id": "jjts_jaXjqym",
        "colab_type": "code",
        "colab": {
          "base_uri": "https://localhost:8080/",
          "height": 51
        },
        "outputId": "5a8f6bf8-596d-449e-9261-a37e64de0681"
      },
      "cell_type": "code",
      "source": [
        "results = model.evaluate(test_data, test_labels)\n",
        "\n",
        "print(results)"
      ],
      "execution_count": 15,
      "outputs": [
        {
          "output_type": "stream",
          "text": [
            "25000/25000 [==============================] - 2s 60us/sample - loss: 0.3302 - acc: 0.8714\n",
            "[0.33022404648780823, 0.8714]\n"
          ],
          "name": "stdout"
        }
      ]
    },
    {
      "metadata": {
        "id": "mZFqw-uPkFz0",
        "colab_type": "code",
        "colab": {
          "base_uri": "https://localhost:8080/",
          "height": 34
        },
        "outputId": "78712b39-b607-4395-db01-6b8f2668924b"
      },
      "cell_type": "code",
      "source": [
        "history_dict = history.history\n",
        "history_dict.keys()"
      ],
      "execution_count": 16,
      "outputs": [
        {
          "output_type": "execute_result",
          "data": {
            "text/plain": [
              "dict_keys(['loss', 'acc', 'val_loss', 'val_acc'])"
            ]
          },
          "metadata": {
            "tags": []
          },
          "execution_count": 16
        }
      ]
    },
    {
      "metadata": {
        "id": "m0jktCaOkKG7",
        "colab_type": "code",
        "colab": {
          "base_uri": "https://localhost:8080/",
          "height": 376
        },
        "outputId": "a63dcc15-42ca-45aa-dc62-cbb08609732c"
      },
      "cell_type": "code",
      "source": [
        "import matplotlib.pyplot as plt\n",
        "\n",
        "acc = history_dict['acc']\n",
        "val_acc = history_dict['val_acc']\n",
        "loss = history_dict['loss']\n",
        "val_loss = history_dict['val_loss']\n",
        "\n",
        "epochs = range(1, len(acc) + 1)\n",
        "\n",
        "# \"bo\" is for \"blue dot\"\n",
        "plt.plot(epochs, loss, 'bo', label='Training loss')\n",
        "# b is for \"solid blue line\"\n",
        "plt.plot(epochs, val_loss, 'b', label='Validation loss')\n",
        "plt.title('Training and validation loss')\n",
        "plt.xlabel('Epochs')\n",
        "plt.ylabel('Loss')\n",
        "plt.legend()\n",
        "\n",
        "plt.show()"
      ],
      "execution_count": 17,
      "outputs": [
        {
          "output_type": "display_data",
          "data": {
            "image/png": "[encoded data removed]",
            "text/plain": [
              "<Figure size 576x396 with 1 Axes>"
            ]
          },
          "metadata": {
            "tags": []
          }
        }
      ]
    },
    {
      "metadata": {
        "id": "dg2_vA3mkMbg",
        "colab_type": "code",
        "colab": {
          "base_uri": "https://localhost:8080/",
          "height": 376
        },
        "outputId": "99c65f72-1170-4c24-9346-033e684bc02f"
      },
      "cell_type": "code",
      "source": [
        "plt.clf()   # clear figure\n",
        "\n",
        "plt.plot(epochs, acc, 'bo', label='Training acc')\n",
        "plt.plot(epochs, val_acc, 'b', label='Validation acc')\n",
        "plt.title('Training and validation accuracy')\n",
        "plt.xlabel('Epochs')\n",
        "plt.ylabel('Accuracy')\n",
        "plt.legend()\n",
        "\n",
        "plt.show()"
      ],
      "execution_count": 18,
      "outputs": [
        {
          "output_type": "display_data",
          "data": {
            "image/png": "[encoded data removed]",
            "text/plain": [
              "<Figure size 576x396 with 1 Axes>"
            ]
          },
          "metadata": {
            "tags": []
          }
        }
      ]
    },
    {
      "metadata": {
        "id": "2h3sWbUEkTn9",
        "colab_type": "code",
        "colab": {}
      },
      "cell_type": "code",
      "source": [
        ""
      ],
      "execution_count": 0,
      "outputs": []
    }
  ]
}